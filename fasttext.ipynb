{
 "cells": [
  {
   "cell_type": "code",
   "execution_count": 1,
   "metadata": {
    "id": "g0hNMajIr9Gj"
   },
   "outputs": [],
   "source": [
    "# Danny: FastText"
   ]
  },
  {
   "cell_type": "code",
   "execution_count": 1,
   "metadata": {
    "id": "D5fnAZvpsgD4"
   },
   "outputs": [],
   "source": [
    "import pandas as pd\n",
    "from matplotlib import pyplot as plt\n",
    "import seaborn as sns\n",
    "import numpy as np\n",
    "from sklearn.model_selection import train_test_split"
   ]
  },
  {
   "cell_type": "code",
   "execution_count": 2,
   "metadata": {
    "colab": {
     "base_uri": "https://localhost:8080/"
    },
    "id": "MCSH_IvEvCba",
    "outputId": "c255d3fe-ba60-42de-d893-35b9a24d5cff"
   },
   "outputs": [
    {
     "name": "stdout",
     "output_type": "stream",
     "text": [
      "Mounted at /content/drive\n"
     ]
    }
   ],
   "source": [
    "# Connect with drive\n",
    "from google.colab import drive\n",
    "drive.mount('/content/drive')"
   ]
  },
  {
   "cell_type": "code",
   "execution_count": 3,
   "metadata": {
    "id": "3wKNFXgVsj-2"
   },
   "outputs": [],
   "source": [
    "#Read dataset\n",
    "folder_path = '/content/drive/MyDrive/COMP 652/Final Project/Colab Notebooks/Combined_Data.csv'\n",
    "dataset = pd.read_csv(folder_path)\n",
    "# dataset"
   ]
  },
  {
   "cell_type": "code",
   "execution_count": 4,
   "metadata": {
    "id": "-GOHODOOxFwI"
   },
   "outputs": [],
   "source": [
    "#Rename column Unnamed: 0 to Id\n",
    "dataset = dataset.rename(columns={\"Unnamed: 0\": \"Id\"})\n",
    "\n",
    "#Drop the null value rows\n",
    "dataset.dropna()\n",
    "\n",
    "#Find the unique column values and set the labels for the same.\n",
    "col_values= dataset['status'].unique()\n",
    "\n",
    "# Create a dictionary to map unique status values to numbers\n",
    "status_mapping = {status: i for i, status in enumerate(col_values)}\n",
    "\n",
    "# Create the new column 'status_numeric' based on the mapping\n",
    "dataset['labels'] = dataset['status'].map(status_mapping)"
   ]
  },
  {
   "cell_type": "code",
   "execution_count": 5,
   "metadata": {
    "colab": {
     "base_uri": "https://localhost:8080/",
     "height": 295
    },
    "id": "hdi7iUlj4G67",
    "outputId": "b9d8e8d6-ede6-4325-ad04-695dd157029f"
   },
   "outputs": [
    {
     "name": "stderr",
     "output_type": "stream",
     "text": [
      "[nltk_data] Downloading package punkt_tab to /root/nltk_data...\n",
      "[nltk_data]   Unzipping tokenizers/punkt_tab.zip.\n",
      "[nltk_data] Downloading package stopwords to /root/nltk_data...\n",
      "[nltk_data]   Unzipping corpora/stopwords.zip.\n",
      "[nltk_data] Downloading package wordnet to /root/nltk_data...\n"
     ]
    },
    {
     "data": {
      "application/vnd.google.colaboratory.intrinsic+json": {
       "summary": "{\n  \"name\": \"dataset\",\n  \"rows\": 53043,\n  \"fields\": [\n    {\n      \"column\": \"Id\",\n      \"properties\": {\n        \"dtype\": \"number\",\n        \"std\": 15312,\n        \"min\": 0,\n        \"max\": 53042,\n        \"num_unique_values\": 53043,\n        \"samples\": [\n          22261,\n          41400,\n          20065\n        ],\n        \"semantic_type\": \"\",\n        \"description\": \"\"\n      }\n    },\n    {\n      \"column\": \"statement\",\n      \"properties\": {\n        \"dtype\": \"string\",\n        \"num_unique_values\": 51073,\n        \"samples\": [\n          \"he's been a chain smoker for 30 years.\",\n          \"Dependence on therapist I attend IOP groups and individual therapy sessions at the same place, my therapist who I have worked with on and off for a year and a couple months just told me today that she is leaving soon and I am heartbroken. I love my therapist and I don't know how I am going to keep progressing without her. There will be a replacement for her but idk what to do, I don't want a different therapist. :(\",\n          \"These feelings constantly come back. Someone from my past that hurt me came back a month ago and once again disrespected me and i just feel like shit. Idk why these feelings keep resurfacing but it just hurts. I do not want to be over dramatic but Its hurts when you were nothing but loving/kind to someone and they disrespect you. I just hate feeling like this, feeling like i cannot trust anyone or that no one would ever truly love me unless i have something to offer. I am always worried about my looks and its just making me depressed. I really do not feel like i fit in with the world I am just here. Idk what my next step should be to get help but I am really going through it. (Yes I am in therapy) but how do i help myself ? I have been depressed/anxious for years and most day i do not even leave my house. But nobody around me seems to care and honestly I am tired of feeling this way. But at the same time i do not want to give up on myself bc i feel like I am here to be somebody great. I am just trying to find my way right now. It keeps coming back\"\n        ],\n        \"semantic_type\": \"\",\n        \"description\": \"\"\n      }\n    },\n    {\n      \"column\": \"status\",\n      \"properties\": {\n        \"dtype\": \"category\",\n        \"num_unique_values\": 7,\n        \"samples\": [\n          \"Anxiety\",\n          \"Normal\",\n          \"Bipolar\"\n        ],\n        \"semantic_type\": \"\",\n        \"description\": \"\"\n      }\n    },\n    {\n      \"column\": \"labels\",\n      \"properties\": {\n        \"dtype\": \"number\",\n        \"std\": 1,\n        \"min\": 0,\n        \"max\": 6,\n        \"num_unique_values\": 7,\n        \"samples\": [\n          0,\n          1,\n          5\n        ],\n        \"semantic_type\": \"\",\n        \"description\": \"\"\n      }\n    },\n    {\n      \"column\": \"clean_text\",\n      \"properties\": {\n        \"dtype\": \"string\",\n        \"num_unique_values\": 50537,\n        \"samples\": [\n          \"could make get feel like therapist annoy husband know say made attempt realli want go hospit kind scare self right get bed today feel alon\",\n          \"min till home time count crave visit mac store close time get\",\n          \"think cancer use tobacco chew white patch gum came yesterday im paranoid add scare shitless subreddit diagnos cancer\"\n        ],\n        \"semantic_type\": \"\",\n        \"description\": \"\"\n      }\n    }\n  ]\n}",
       "type": "dataframe",
       "variable_name": "dataset"
      },
      "text/html": [
       "\n",
       "  <div id=\"df-bf9152b2-e111-4186-a7c1-c232fd6bfd55\" class=\"colab-df-container\">\n",
       "    <div>\n",
       "<style scoped>\n",
       "    .dataframe tbody tr th:only-of-type {\n",
       "        vertical-align: middle;\n",
       "    }\n",
       "\n",
       "    .dataframe tbody tr th {\n",
       "        vertical-align: top;\n",
       "    }\n",
       "\n",
       "    .dataframe thead th {\n",
       "        text-align: right;\n",
       "    }\n",
       "</style>\n",
       "<table border=\"1\" class=\"dataframe\">\n",
       "  <thead>\n",
       "    <tr style=\"text-align: right;\">\n",
       "      <th></th>\n",
       "      <th>Id</th>\n",
       "      <th>statement</th>\n",
       "      <th>status</th>\n",
       "      <th>labels</th>\n",
       "      <th>clean_text</th>\n",
       "    </tr>\n",
       "  </thead>\n",
       "  <tbody>\n",
       "    <tr>\n",
       "      <th>0</th>\n",
       "      <td>0</td>\n",
       "      <td>oh my gosh</td>\n",
       "      <td>Anxiety</td>\n",
       "      <td>0</td>\n",
       "      <td>oh gosh</td>\n",
       "    </tr>\n",
       "    <tr>\n",
       "      <th>1</th>\n",
       "      <td>1</td>\n",
       "      <td>trouble sleeping, confused mind, restless hear...</td>\n",
       "      <td>Anxiety</td>\n",
       "      <td>0</td>\n",
       "      <td>troubl sleep confus mind restless heart tune</td>\n",
       "    </tr>\n",
       "    <tr>\n",
       "      <th>2</th>\n",
       "      <td>2</td>\n",
       "      <td>All wrong, back off dear, forward doubt. Stay ...</td>\n",
       "      <td>Anxiety</td>\n",
       "      <td>0</td>\n",
       "      <td>wrong back dear forward doubt stay restless re...</td>\n",
       "    </tr>\n",
       "    <tr>\n",
       "      <th>3</th>\n",
       "      <td>3</td>\n",
       "      <td>I've shifted my focus to something else but I'...</td>\n",
       "      <td>Anxiety</td>\n",
       "      <td>0</td>\n",
       "      <td>ive shift focu someth el im still worri</td>\n",
       "    </tr>\n",
       "    <tr>\n",
       "      <th>4</th>\n",
       "      <td>4</td>\n",
       "      <td>I'm restless and restless, it's been a month n...</td>\n",
       "      <td>Anxiety</td>\n",
       "      <td>0</td>\n",
       "      <td>im restless restless month boy mean</td>\n",
       "    </tr>\n",
       "  </tbody>\n",
       "</table>\n",
       "</div>\n",
       "    <div class=\"colab-df-buttons\">\n",
       "\n",
       "  <div class=\"colab-df-container\">\n",
       "    <button class=\"colab-df-convert\" onclick=\"convertToInteractive('df-bf9152b2-e111-4186-a7c1-c232fd6bfd55')\"\n",
       "            title=\"Convert this dataframe to an interactive table.\"\n",
       "            style=\"display:none;\">\n",
       "\n",
       "  <svg xmlns=\"http://www.w3.org/2000/svg\" height=\"24px\" viewBox=\"0 -960 960 960\">\n",
       "    <path d=\"M120-120v-720h720v720H120Zm60-500h600v-160H180v160Zm220 220h160v-160H400v160Zm0 220h160v-160H400v160ZM180-400h160v-160H180v160Zm440 0h160v-160H620v160ZM180-180h160v-160H180v160Zm440 0h160v-160H620v160Z\"/>\n",
       "  </svg>\n",
       "    </button>\n",
       "\n",
       "  <style>\n",
       "    .colab-df-container {\n",
       "      display:flex;\n",
       "      gap: 12px;\n",
       "    }\n",
       "\n",
       "    .colab-df-convert {\n",
       "      background-color: #E8F0FE;\n",
       "      border: none;\n",
       "      border-radius: 50%;\n",
       "      cursor: pointer;\n",
       "      display: none;\n",
       "      fill: #1967D2;\n",
       "      height: 32px;\n",
       "      padding: 0 0 0 0;\n",
       "      width: 32px;\n",
       "    }\n",
       "\n",
       "    .colab-df-convert:hover {\n",
       "      background-color: #E2EBFA;\n",
       "      box-shadow: 0px 1px 2px rgba(60, 64, 67, 0.3), 0px 1px 3px 1px rgba(60, 64, 67, 0.15);\n",
       "      fill: #174EA6;\n",
       "    }\n",
       "\n",
       "    .colab-df-buttons div {\n",
       "      margin-bottom: 4px;\n",
       "    }\n",
       "\n",
       "    [theme=dark] .colab-df-convert {\n",
       "      background-color: #3B4455;\n",
       "      fill: #D2E3FC;\n",
       "    }\n",
       "\n",
       "    [theme=dark] .colab-df-convert:hover {\n",
       "      background-color: #434B5C;\n",
       "      box-shadow: 0px 1px 3px 1px rgba(0, 0, 0, 0.15);\n",
       "      filter: drop-shadow(0px 1px 2px rgba(0, 0, 0, 0.3));\n",
       "      fill: #FFFFFF;\n",
       "    }\n",
       "  </style>\n",
       "\n",
       "    <script>\n",
       "      const buttonEl =\n",
       "        document.querySelector('#df-bf9152b2-e111-4186-a7c1-c232fd6bfd55 button.colab-df-convert');\n",
       "      buttonEl.style.display =\n",
       "        google.colab.kernel.accessAllowed ? 'block' : 'none';\n",
       "\n",
       "      async function convertToInteractive(key) {\n",
       "        const element = document.querySelector('#df-bf9152b2-e111-4186-a7c1-c232fd6bfd55');\n",
       "        const dataTable =\n",
       "          await google.colab.kernel.invokeFunction('convertToInteractive',\n",
       "                                                    [key], {});\n",
       "        if (!dataTable) return;\n",
       "\n",
       "        const docLinkHtml = 'Like what you see? Visit the ' +\n",
       "          '<a target=\"_blank\" href=https://colab.research.google.com/notebooks/data_table.ipynb>data table notebook</a>'\n",
       "          + ' to learn more about interactive tables.';\n",
       "        element.innerHTML = '';\n",
       "        dataTable['output_type'] = 'display_data';\n",
       "        await google.colab.output.renderOutput(dataTable, element);\n",
       "        const docLink = document.createElement('div');\n",
       "        docLink.innerHTML = docLinkHtml;\n",
       "        element.appendChild(docLink);\n",
       "      }\n",
       "    </script>\n",
       "  </div>\n",
       "\n",
       "\n",
       "    <div id=\"df-81a9a830-a654-43e4-9deb-1d16988c2d03\">\n",
       "      <button class=\"colab-df-quickchart\" onclick=\"quickchart('df-81a9a830-a654-43e4-9deb-1d16988c2d03')\"\n",
       "                title=\"Suggest charts\"\n",
       "                style=\"display:none;\">\n",
       "\n",
       "<svg xmlns=\"http://www.w3.org/2000/svg\" height=\"24px\"viewBox=\"0 0 24 24\"\n",
       "     width=\"24px\">\n",
       "    <g>\n",
       "        <path d=\"M19 3H5c-1.1 0-2 .9-2 2v14c0 1.1.9 2 2 2h14c1.1 0 2-.9 2-2V5c0-1.1-.9-2-2-2zM9 17H7v-7h2v7zm4 0h-2V7h2v10zm4 0h-2v-4h2v4z\"/>\n",
       "    </g>\n",
       "</svg>\n",
       "      </button>\n",
       "\n",
       "<style>\n",
       "  .colab-df-quickchart {\n",
       "      --bg-color: #E8F0FE;\n",
       "      --fill-color: #1967D2;\n",
       "      --hover-bg-color: #E2EBFA;\n",
       "      --hover-fill-color: #174EA6;\n",
       "      --disabled-fill-color: #AAA;\n",
       "      --disabled-bg-color: #DDD;\n",
       "  }\n",
       "\n",
       "  [theme=dark] .colab-df-quickchart {\n",
       "      --bg-color: #3B4455;\n",
       "      --fill-color: #D2E3FC;\n",
       "      --hover-bg-color: #434B5C;\n",
       "      --hover-fill-color: #FFFFFF;\n",
       "      --disabled-bg-color: #3B4455;\n",
       "      --disabled-fill-color: #666;\n",
       "  }\n",
       "\n",
       "  .colab-df-quickchart {\n",
       "    background-color: var(--bg-color);\n",
       "    border: none;\n",
       "    border-radius: 50%;\n",
       "    cursor: pointer;\n",
       "    display: none;\n",
       "    fill: var(--fill-color);\n",
       "    height: 32px;\n",
       "    padding: 0;\n",
       "    width: 32px;\n",
       "  }\n",
       "\n",
       "  .colab-df-quickchart:hover {\n",
       "    background-color: var(--hover-bg-color);\n",
       "    box-shadow: 0 1px 2px rgba(60, 64, 67, 0.3), 0 1px 3px 1px rgba(60, 64, 67, 0.15);\n",
       "    fill: var(--button-hover-fill-color);\n",
       "  }\n",
       "\n",
       "  .colab-df-quickchart-complete:disabled,\n",
       "  .colab-df-quickchart-complete:disabled:hover {\n",
       "    background-color: var(--disabled-bg-color);\n",
       "    fill: var(--disabled-fill-color);\n",
       "    box-shadow: none;\n",
       "  }\n",
       "\n",
       "  .colab-df-spinner {\n",
       "    border: 2px solid var(--fill-color);\n",
       "    border-color: transparent;\n",
       "    border-bottom-color: var(--fill-color);\n",
       "    animation:\n",
       "      spin 1s steps(1) infinite;\n",
       "  }\n",
       "\n",
       "  @keyframes spin {\n",
       "    0% {\n",
       "      border-color: transparent;\n",
       "      border-bottom-color: var(--fill-color);\n",
       "      border-left-color: var(--fill-color);\n",
       "    }\n",
       "    20% {\n",
       "      border-color: transparent;\n",
       "      border-left-color: var(--fill-color);\n",
       "      border-top-color: var(--fill-color);\n",
       "    }\n",
       "    30% {\n",
       "      border-color: transparent;\n",
       "      border-left-color: var(--fill-color);\n",
       "      border-top-color: var(--fill-color);\n",
       "      border-right-color: var(--fill-color);\n",
       "    }\n",
       "    40% {\n",
       "      border-color: transparent;\n",
       "      border-right-color: var(--fill-color);\n",
       "      border-top-color: var(--fill-color);\n",
       "    }\n",
       "    60% {\n",
       "      border-color: transparent;\n",
       "      border-right-color: var(--fill-color);\n",
       "    }\n",
       "    80% {\n",
       "      border-color: transparent;\n",
       "      border-right-color: var(--fill-color);\n",
       "      border-bottom-color: var(--fill-color);\n",
       "    }\n",
       "    90% {\n",
       "      border-color: transparent;\n",
       "      border-bottom-color: var(--fill-color);\n",
       "    }\n",
       "  }\n",
       "</style>\n",
       "\n",
       "      <script>\n",
       "        async function quickchart(key) {\n",
       "          const quickchartButtonEl =\n",
       "            document.querySelector('#' + key + ' button');\n",
       "          quickchartButtonEl.disabled = true;  // To prevent multiple clicks.\n",
       "          quickchartButtonEl.classList.add('colab-df-spinner');\n",
       "          try {\n",
       "            const charts = await google.colab.kernel.invokeFunction(\n",
       "                'suggestCharts', [key], {});\n",
       "          } catch (error) {\n",
       "            console.error('Error during call to suggestCharts:', error);\n",
       "          }\n",
       "          quickchartButtonEl.classList.remove('colab-df-spinner');\n",
       "          quickchartButtonEl.classList.add('colab-df-quickchart-complete');\n",
       "        }\n",
       "        (() => {\n",
       "          let quickchartButtonEl =\n",
       "            document.querySelector('#df-81a9a830-a654-43e4-9deb-1d16988c2d03 button');\n",
       "          quickchartButtonEl.style.display =\n",
       "            google.colab.kernel.accessAllowed ? 'block' : 'none';\n",
       "        })();\n",
       "      </script>\n",
       "    </div>\n",
       "\n",
       "    </div>\n",
       "  </div>\n"
      ],
      "text/plain": [
       "   Id                                          statement   status  labels  \\\n",
       "0   0                                         oh my gosh  Anxiety       0   \n",
       "1   1  trouble sleeping, confused mind, restless hear...  Anxiety       0   \n",
       "2   2  All wrong, back off dear, forward doubt. Stay ...  Anxiety       0   \n",
       "3   3  I've shifted my focus to something else but I'...  Anxiety       0   \n",
       "4   4  I'm restless and restless, it's been a month n...  Anxiety       0   \n",
       "\n",
       "                                          clean_text  \n",
       "0                                            oh gosh  \n",
       "1       troubl sleep confus mind restless heart tune  \n",
       "2  wrong back dear forward doubt stay restless re...  \n",
       "3            ive shift focu someth el im still worri  \n",
       "4                im restless restless month boy mean  "
      ]
     },
     "execution_count": 5,
     "metadata": {},
     "output_type": "execute_result"
    }
   ],
   "source": [
    "import pandas as pd\n",
    "import re\n",
    "import nltk\n",
    "from nltk.tokenize import word_tokenize\n",
    "from nltk.corpus import stopwords\n",
    "from nltk.stem import PorterStemmer\n",
    "from nltk.stem import WordNetLemmatizer\n",
    "\n",
    "# Download required NLTK resources (only once)\n",
    "nltk.download('punkt_tab')\n",
    "nltk.download('stopwords')\n",
    "nltk.download('wordnet')\n",
    "\n",
    "# Initialize preprocessing tools\n",
    "stop_words = set(stopwords.words('english'))\n",
    "stemmer = PorterStemmer()\n",
    "lemmatizer = WordNetLemmatizer()\n",
    "\n",
    "# Define a simple preprocessing function\n",
    "def preprocess(text):\n",
    "    if isinstance(text, str):\n",
    "      text = text.lower()     # Lowercase\n",
    "      text = re.sub(r'[^\\w\\s]', '', text)     # Remove punctuation\n",
    "      tokens = word_tokenize(text)     # Tokenize\n",
    "      tokens = [t for t in tokens if t not in stop_words]     # Remove stopwords\n",
    "      tokens = [stemmer.stem(t) for t in tokens]     # Apply stemming\n",
    "      tokens = [lemmatizer.lemmatize(t) for t in tokens]     # Apply lemmatization\n",
    "      return ' '.join(tokens)     # Apply lemmatization\n",
    "    else:\n",
    "      return text\n",
    "\n",
    "# Apply to DataFrame\n",
    "dataset['clean_text'] = dataset['statement'].apply(preprocess)\n",
    "\n",
    "dataset.head()"
   ]
  },
  {
   "cell_type": "markdown",
   "metadata": {
    "id": "SlEDV7DCB468"
   },
   "source": [
    "# **FastText**\n"
   ]
  },
  {
   "cell_type": "code",
   "execution_count": 6,
   "metadata": {
    "colab": {
     "base_uri": "https://localhost:8080/"
    },
    "id": "eMTQguLjYFTq",
    "outputId": "70b94c65-d8d5-4324-9679-eeff58926bc9"
   },
   "outputs": [
    {
     "name": "stdout",
     "output_type": "stream",
     "text": [
      "Collecting fasttext\n",
      "  Downloading fasttext-0.9.3.tar.gz (73 kB)\n",
      "\u001b[?25l     \u001b[90m━━━━━━━━━━━━━━━━━━━━━━━━━━━━━━━━━━━━━━━━\u001b[0m \u001b[32m0.0/73.4 kB\u001b[0m \u001b[31m?\u001b[0m eta \u001b[36m-:--:--\u001b[0m\r",
      "\u001b[2K     \u001b[91m━━━━━━━━━━━━━━━━━━━━━━━━━━━━━━━━━━━━━━━\u001b[0m\u001b[90m╺\u001b[0m \u001b[32m71.7/73.4 kB\u001b[0m \u001b[31m2.3 MB/s\u001b[0m eta \u001b[36m0:00:01\u001b[0m\r",
      "\u001b[2K     \u001b[90m━━━━━━━━━━━━━━━━━━━━━━━━━━━━━━━━━━━━━━━━\u001b[0m \u001b[32m73.4/73.4 kB\u001b[0m \u001b[31m1.8 MB/s\u001b[0m eta \u001b[36m0:00:00\u001b[0m\n",
      "\u001b[?25h  Installing build dependencies ... \u001b[?25l\u001b[?25hdone\n",
      "  Getting requirements to build wheel ... \u001b[?25l\u001b[?25hdone\n",
      "  Preparing metadata (pyproject.toml) ... \u001b[?25l\u001b[?25hdone\n",
      "Collecting pybind11>=2.2 (from fasttext)\n",
      "  Using cached pybind11-2.13.6-py3-none-any.whl.metadata (9.5 kB)\n",
      "Requirement already satisfied: setuptools>=0.7.0 in /usr/local/lib/python3.11/dist-packages (from fasttext) (75.2.0)\n",
      "Requirement already satisfied: numpy in /usr/local/lib/python3.11/dist-packages (from fasttext) (2.0.2)\n",
      "Using cached pybind11-2.13.6-py3-none-any.whl (243 kB)\n",
      "Building wheels for collected packages: fasttext\n",
      "  Building wheel for fasttext (pyproject.toml) ... \u001b[?25l\u001b[?25hdone\n",
      "  Created wheel for fasttext: filename=fasttext-0.9.3-cp311-cp311-linux_x86_64.whl size=4313503 sha256=f768a6f72143a3c31cd5a3619e32b6cbf6026c69b809294d9714d3391eed8144\n",
      "  Stored in directory: /root/.cache/pip/wheels/65/4f/35/5057db0249224e9ab55a513fa6b79451473ceb7713017823c3\n",
      "Successfully built fasttext\n",
      "Installing collected packages: pybind11, fasttext\n",
      "Successfully installed fasttext-0.9.3 pybind11-2.13.6\n"
     ]
    }
   ],
   "source": [
    "!pip install fasttext"
   ]
  },
  {
   "cell_type": "code",
   "execution_count": 7,
   "metadata": {
    "id": "bjVJ4pkQDwCu"
   },
   "outputs": [],
   "source": [
    "import fasttext\n",
    "from sklearn.model_selection import train_test_split, StratifiedKFold"
   ]
  },
  {
   "cell_type": "code",
   "execution_count": 17,
   "metadata": {
    "id": "IdVBtpJ2xNJi"
   },
   "outputs": [],
   "source": [
    "# dataset['labeled_data'] = '__label__' + dataset['status'].astype(str) + ' ' + dataset['clean_text']\n",
    "# concatenated_dataset = '__label__' + dataset['status'].astype(str) + ' ' + dataset['clean_text']\n",
    "# concatenated_dataset = concatenated_dataset.dropna()\n",
    "# dataset = dataset.dropna(subset=['labeled_data'])"
   ]
  },
  {
   "cell_type": "code",
   "execution_count": 46,
   "metadata": {
    "id": "17z-IAL7xRC5"
   },
   "outputs": [],
   "source": [
    "# preprocess data\n",
    "fasttext_dataset = dataset.dropna(subset=['clean_text']) # drop where clean_test is na\n",
    "fasttext_dataset = fasttext_dataset.dropna(subset=['status']) # drop where status is na\n",
    "fasttext_dataset['clean_text'] = fasttext_dataset['clean_text'].astype(str).replace('\\n','') # replace any new lines in \"clean_test\" column\n",
    "fasttext_dataset['status'] = fasttext_dataset['status'].astype(str).replace('\\n','') # replace any new lines in \"status\" column\n",
    "fasttext_dataset = fasttext_dataset[fasttext_dataset['clean_text'] != ''] # remove any rows where \"clean_text\" has blank value\n",
    "\n",
    "# declare the data and its labels\n",
    "x = fasttext_dataset['clean_text']\n",
    "y = fasttext_dataset['status']\n",
    "\n",
    "# split the training and test datasets. 80% for training, 20% for test\n",
    "x_train, x_test, y_train, y_test = train_test_split(x, y, test_size=0.2, random_state=42)"
   ]
  },
  {
   "cell_type": "code",
   "execution_count": 9,
   "metadata": {
    "id": "kdRJiJCugsFb"
   },
   "outputs": [],
   "source": [
    "# function to flatten nested lists. used for y_predictions\n",
    "def flatten_list(x:list):\n",
    "    lst = []\n",
    "    for element in x:\n",
    "        if isinstance(element, list):\n",
    "            lst.extend(flatten_list(element))\n",
    "        else:\n",
    "            lst.append(element)\n",
    "    return lst"
   ]
  },
  {
   "cell_type": "code",
   "execution_count": null,
   "metadata": {
    "id": "Ux2VFLQvaZzQ"
   },
   "outputs": [],
   "source": [
    "# !pip install fasttext"
   ]
  },
  {
   "cell_type": "code",
   "execution_count": 54,
   "metadata": {
    "id": "uK4MNtBMXw6Z"
   },
   "outputs": [],
   "source": [
    "# Hyperparameters\n",
    "# 1st item: learning rate\n",
    "# 2nd item: wordNgrams\n",
    "# 3rd item: loss function (ns = negative sampling, hs = hierarchical softmax)\n",
    "hyperparameters = {\n",
    "    0:[.1, 1, 'ns'],\n",
    "    1:[.5, 1, 'ns'],\n",
    "    2:[1.0, 1, 'ns'],\n",
    "    3:[.1, 2, 'ns'],\n",
    "    4:[.5, 2, 'ns'],\n",
    "    5:[1.0, 2, 'ns'],\n",
    "    6:[.1, 3, 'ns'],\n",
    "    7:[.5, 3, 'ns'],\n",
    "    8:[1.0, 3, 'ns'],\n",
    "    9:[.1, 1, 'hs'],\n",
    "    10:[.5, 1, 'hs'],\n",
    "    11:[1.0, 1, 'hs'],\n",
    "    12:[.1, 2, 'hs'],\n",
    "    13:[.5, 2, 'hs'],\n",
    "    14:[1.0, 2, 'hs'],\n",
    "    15:[.1, 3, 'hs'],\n",
    "    16:[.5, 3, 'hs'],\n",
    "    18:[1.0, 3, 'hs'],\n",
    "}"
   ]
  },
  {
   "cell_type": "code",
   "execution_count": null,
   "metadata": {
    "colab": {
     "base_uri": "https://localhost:8080/"
    },
    "collapsed": true,
    "id": "R_rGf9Ok87tf",
    "jupyter": {
     "outputs_hidden": true
    },
    "outputId": "8cb875bb-3be4-4050-a6c6-08429eac1861"
   },
   "outputs": [
    {
     "name": "stdout",
     "output_type": "stream",
     "text": [
      "0\n",
      "Fold 1 learning rate=0.1, wordNgram=1, loss_function=ns, accuracy=0.8189\n",
      "1\n"
     ]
    }
   ],
   "source": [
    "import fasttext\n",
    "from sklearn.model_selection import train_test_split, StratifiedKFold\n",
    "\n",
    "kfolds = StratifiedKFold(n_splits=18, shuffle=True, random_state=42)\n",
    "\n",
    "accuracies_negativesampling = []\n",
    "accuracies_hierarchicalsoftmax = []\n",
    "\n",
    "for idx, (train_index, val_index) in enumerate(kfolds.split(x_train, y_train)):\n",
    "\n",
    "    # training sets\n",
    "    x_train_fold = x_train.iloc[train_index]\n",
    "    y_train_fold = y_train.iloc[train_index]\n",
    "\n",
    "    # validation sets\n",
    "    x_val_fold =  x_train.iloc[val_index]\n",
    "    y_val_fold = y_train.iloc[val_index]\n",
    "\n",
    "    # concatenate the y and x data to match the fasttext supervised parameter format\n",
    "    fasttext_model_data = '__label__' + y_train.astype(str) + ' ' + x_train.astype(str)\n",
    "\n",
    "    # substitute any NaN values with ''\n",
    "    fasttext_model_data = fasttext_model_data.fillna('')\n",
    "\n",
    "    # output a text file of the fasttext training data, since the fasttext model can only read files\n",
    "    fasttext_model_data.to_csv('/content/drive/MyDrive/COMP 652/Final Project/Colab Notebooks/fasttext_model_data.txt', index=False, header=False)\n",
    "\n",
    "    # select parameters for hypteruning\n",
    "    learning_rate = hyperparameters[idx][0]\n",
    "    wordNgram = hyperparameters[idx][1]\n",
    "    loss_function = hyperparameters[idx][2]\n",
    "\n",
    "    # train the fasttext model with the text file\n",
    "    fasttext_model = fasttext.train_supervised(input = '/content/drive/MyDrive/COMP 652/Final Project/Colab Notebooks/fasttext_model_data.txt',\n",
    "                                               lr = learning_rate,\n",
    "                                               wordNgrams = wordNgram,\n",
    "                                               loss = loss_function)\n",
    "\n",
    "    # get predicted labels\n",
    "    y_predictions, _ = fasttext_model.predict(list(x_val_fold))\n",
    "    y_predictions = flatten_list(y_predictions)\n",
    "    y_predictions = [prediction.replace('__label__', '') for prediction in y_predictions]\n",
    "\n",
    "    # calculate the accuracy and append results to accuracies variable\n",
    "    num_correct = np.sum(y_predictions == y_val_fold) # number of matches found\n",
    "    accuracy = float(num_correct) / len(y_val_fold) # calculate the accuracy\n",
    "\n",
    "    if idx < 9:\n",
    "      accuracies_negativesampling.append(accuracy)\n",
    "    else:\n",
    "      accuracies_hierarchicalsoftmax.append(accuracy)\n",
    "\n",
    "    print(f\"Fold {idx+1} learning rate={learning_rate}, wordNgram={wordNgram}, loss_function={loss_function}, accuracy={accuracy:.4f}\")\n",
    "\n"
   ]
  },
  {
   "cell_type": "code",
   "execution_count": null,
   "metadata": {
    "id": "4jC-io5sd1aj"
   },
   "outputs": [],
   "source": [
    "# plot the accuracies for each loss function type\n",
    "# negative sampling\n",
    "plt.plot(accuracies_negativesampling)\n",
    "plt.show()\n",
    "\n",
    "# hierarchical softmax\n",
    "plt.plot(accuracies_hierarchicalsoftmax)\n",
    "plt.show()"
   ]
  },
  {
   "cell_type": "code",
   "execution_count": null,
   "metadata": {
    "id": "frh9r77aQVcT"
   },
   "outputs": [],
   "source": [
    "from sklearn.metrics import roc_auc_score\n",
    "# Plot AUROC\n",
    "from sklearn.metrics import confusion_matrix, ConfusionMatrixDisplay\n",
    "\n",
    "# calculate confusion matrix\n",
    "cm = confusion_matrix(y_val_fold, y_prediction)\n",
    "print(f\"Confusion matrix (cm): \\n {cm}\")\n",
    "\n",
    "# calculate the ROC curve\n",
    "false_pos_rate, true_pos_rate, thresholds = roc_curve(y_val_fold, y_prediction)\n",
    "roc_auc = auc(false_pos_rate, true_pos_rate)\n",
    "# plot the ROC curve\n",
    "plt.figure(figsize=(8, 6))\n",
    "plt.plot(false_pos_rate, true_pos_rate, color=\"blue\", lw=2, label=f\"ROC curve, AUC = {roc_auc:.4f}\")\n",
    "plt.xlabel(\"False Positive Rate\", fontsize=12)\n",
    "plt.ylabel(\"True Positive Rate\", fontsize=12)\n",
    "plt.title(\"ROC Curve\", fontsize=12)\n",
    "plt.legend(loc=\"lower right\", fontsize=12)\n",
    "plt.show()"
   ]
  }
 ],
 "metadata": {
  "colab": {
   "provenance": [],
   "toc_visible": true
  },
  "kernelspec": {
   "display_name": "Python 3 (ipykernel)",
   "language": "python",
   "name": "python3"
  },
  "language_info": {
   "codemirror_mode": {
    "name": "ipython",
    "version": 3
   },
   "file_extension": ".py",
   "mimetype": "text/x-python",
   "name": "python",
   "nbconvert_exporter": "python",
   "pygments_lexer": "ipython3",
   "version": "3.13.0"
  }
 },
 "nbformat": 4,
 "nbformat_minor": 4
}
